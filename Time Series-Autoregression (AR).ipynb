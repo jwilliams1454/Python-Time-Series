{
 "cells": [
  {
   "cell_type": "code",
   "execution_count": null,
   "metadata": {},
   "outputs": [],
   "source": [
    "# The autoregression (AR) method models the next step in the sequence as a linear function of the observations at prior time steps.\n",
    "# The notation for the model involves specifying the order of the model p as a parameter to the AR function, e.g. AR(p). For example, AR(1) is a first-order autoregression model.\n",
    "# The method is suitable for univariate time series without trend and seasonal components."
   ]
  },
  {
   "cell_type": "code",
   "execution_count": 6,
   "metadata": {},
   "outputs": [],
   "source": [
    "# AR example\n",
    "from statsmodels.tsa.ar_model import AutoReg\n",
    "from random import random\n",
    "import matplotlib\n",
    "import matplotlib.pyplot as plt"
   ]
  },
  {
   "cell_type": "code",
   "execution_count": 7,
   "metadata": {},
   "outputs": [
    {
     "data": {
      "text/plain": [
       "[1.6557085632564248,\n",
       " 2.5723512566482416,\n",
       " 3.47524181502335,\n",
       " 4.661638321356172,\n",
       " 5.169477467083523,\n",
       " 6.29356993745446,\n",
       " 7.863553157434243,\n",
       " 8.228335012600224,\n",
       " 9.458917992925649,\n",
       " 10.30166890574868,\n",
       " 11.942994231101503,\n",
       " 12.578013947993608,\n",
       " 13.754930822384328,\n",
       " 14.839103777927708,\n",
       " 15.465397119394208,\n",
       " 16.27719884752808,\n",
       " 17.00301163745477,\n",
       " 18.614986566503084,\n",
       " 19.525428705765144,\n",
       " 20.608192797980024,\n",
       " 21.07464196298954,\n",
       " 22.392180326704466,\n",
       " 23.76345285038407,\n",
       " 24.702620972520958,\n",
       " 25.95439448973292,\n",
       " 26.401242269127216,\n",
       " 27.215444062234308,\n",
       " 28.744878105944988,\n",
       " 29.258953907509934,\n",
       " 30.25083407782169,\n",
       " 31.31891595762578,\n",
       " 32.29919433702497,\n",
       " 33.24670491186306,\n",
       " 34.68154395439105,\n",
       " 35.03422805679449,\n",
       " 36.563849431530535,\n",
       " 37.817120150533285,\n",
       " 38.64971827078778,\n",
       " 39.08462429628749,\n",
       " 40.47972188357874,\n",
       " 41.352285402495724,\n",
       " 42.02139771269371,\n",
       " 43.93339130782429,\n",
       " 44.90681115098887,\n",
       " 45.3412570014729,\n",
       " 46.47693618258861,\n",
       " 47.50965633298037,\n",
       " 48.865234906596676,\n",
       " 49.33243696826868,\n",
       " 50.89699998575916,\n",
       " 51.09705009615754,\n",
       " 52.94334896438792,\n",
       " 53.05745715483727,\n",
       " 54.56527253158484,\n",
       " 55.12541128329505,\n",
       " 56.543800250465544,\n",
       " 57.590331767890326,\n",
       " 58.61998114855528,\n",
       " 59.50934190043254,\n",
       " 60.882853433078424,\n",
       " 61.16398119449407,\n",
       " 62.22540309572794,\n",
       " 63.95243852072822,\n",
       " 64.12801873263298,\n",
       " 65.7706510718237,\n",
       " 66.37033857843998,\n",
       " 67.33486969235203,\n",
       " 68.3359514202429,\n",
       " 69.7816741818896,\n",
       " 70.51804941166678,\n",
       " 71.50498845946362,\n",
       " 72.78351416045155,\n",
       " 73.73161615451515,\n",
       " 74.96007842352266,\n",
       " 75.28805633191817,\n",
       " 76.88141144051387,\n",
       " 77.064982294364,\n",
       " 78.61288197566456,\n",
       " 79.84218702358594,\n",
       " 80.81143540976811,\n",
       " 81.83539951162312,\n",
       " 82.13678932813063,\n",
       " 83.02984930906669,\n",
       " 84.92855603564426,\n",
       " 85.24129295577929,\n",
       " 86.81111545048282,\n",
       " 87.79997606289483,\n",
       " 88.3761077965947,\n",
       " 89.65858235967097,\n",
       " 90.74390708580451,\n",
       " 91.99029318630001,\n",
       " 92.58462205566696,\n",
       " 93.77706744924713,\n",
       " 94.68467814707725,\n",
       " 95.75702688075602,\n",
       " 96.55767368518698,\n",
       " 97.79248029470646,\n",
       " 98.24301596964627,\n",
       " 99.33420199556402]"
      ]
     },
     "execution_count": 7,
     "metadata": {},
     "output_type": "execute_result"
    }
   ],
   "source": [
    "# contrived dataset\n",
    "data = [x + random() for x in range(1, 100)]\n",
    "data"
   ]
  },
  {
   "cell_type": "code",
   "execution_count": 8,
   "metadata": {},
   "outputs": [
    {
     "data": {
      "text/plain": [
       "[<matplotlib.lines.Line2D at 0x18884b93790>]"
      ]
     },
     "execution_count": 8,
     "metadata": {},
     "output_type": "execute_result"
    },
    {
     "data": {
      "image/png": "[encoded data removed]",
      "text/plain": [
       "<Figure size 432x288 with 1 Axes>"
      ]
     },
     "metadata": {
      "needs_background": "light"
     },
     "output_type": "display_data"
    }
   ],
   "source": [
    "plt.plot(data)"
   ]
  },
  {
   "cell_type": "code",
   "execution_count": 3,
   "metadata": {},
   "outputs": [
    {
     "name": "stderr",
     "output_type": "stream",
     "text": [
      "C:\\Users\\jwill\\anaconda3\\lib\\site-packages\\statsmodels\\tsa\\ar_model.py:248: FutureWarning: The parameter names will change after 0.12 is released. Set old_names to False to use the new names now. Set old_names to True to use the old names. \n",
      "  warnings.warn(\n"
     ]
    }
   ],
   "source": [
    "# fit model\n",
    "model = AutoReg(data, lags=1)\n",
    "model_fit = model.fit()"
   ]
  },
  {
   "cell_type": "code",
   "execution_count": 4,
   "metadata": {},
   "outputs": [
    {
     "name": "stdout",
     "output_type": "stream",
     "text": [
      "[100.49271252]\n"
     ]
    }
   ],
   "source": [
    "# make prediction\n",
    "yhat = model_fit.predict(len(data), len(data))\n",
    "print(yhat)"
   ]
  }
 ],
 "metadata": {
  "kernelspec": {
   "display_name": "Python 3",
   "language": "python",
   "name": "python3"
  },
  "language_info": {
   "codemirror_mode": {
    "name": "ipython",
    "version": 3
   },
   "file_extension": ".py",
   "mimetype": "text/x-python",
   "name": "python",
   "nbconvert_exporter": "python",
   "pygments_lexer": "ipython3",
   "version": "3.8.5"
  }
 },
 "nbformat": 4,
 "nbformat_minor": 4
}
