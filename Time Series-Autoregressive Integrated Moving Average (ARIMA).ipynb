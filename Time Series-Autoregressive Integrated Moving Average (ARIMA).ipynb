{
 "cells": [
  {
   "cell_type": "code",
   "execution_count": 1,
   "metadata": {},
   "outputs": [],
   "source": [
    "# The Autoregressive Integrated Moving Average (ARIMA) method models the next step in the sequence as a linear function of the differenced observations and residual errors at prior time steps.\n",
    "# It combines both Autoregression (AR) and Moving Average (MA) models as well as a differencing pre-processing step of the sequence to make the sequence stationary, called integration (I).\n",
    "# The notation for the model involves specifying the order for the AR(p), I(d), and MA(q) models as parameters to an ARIMA function, e.g. ARIMA(p, d, q). An ARIMA model can also be used to develop AR, MA, and ARMA models.\n",
    "# The method is suitable for univariate time series with trend and without seasonal components."
   ]
  },
  {
   "cell_type": "code",
   "execution_count": 6,
   "metadata": {},
   "outputs": [],
   "source": [
    "# ARIMA example\n",
    "from statsmodels.tsa.arima.model import ARIMA\n",
    "from random import random\n",
    "import matplotlib\n",
    "import matplotlib.pyplot as plt"
   ]
  },
  {
   "cell_type": "code",
   "execution_count": 3,
   "metadata": {},
   "outputs": [
    {
     "data": {
      "text/plain": [
       "[1.7455544462275305,\n",
       " 2.916338049056079,\n",
       " 3.165484166941226,\n",
       " 4.134135835493826,\n",
       " 5.390231545038467,\n",
       " 6.906693069127048,\n",
       " 7.750590830541006,\n",
       " 8.681506748331147,\n",
       " 9.275065006879887,\n",
       " 10.563648389396032,\n",
       " 11.15822215895561,\n",
       " 12.265979678609646,\n",
       " 13.200724256453928,\n",
       " 14.540108498920791,\n",
       " 15.01442763222145,\n",
       " 16.216540899526812,\n",
       " 17.221983352826708,\n",
       " 18.248745018467012,\n",
       " 19.455813003512432,\n",
       " 20.050144750692052,\n",
       " 21.401412777707336,\n",
       " 22.809226372259825,\n",
       " 23.30372831116498,\n",
       " 24.219385543171267,\n",
       " 25.228279693539964,\n",
       " 26.264264271609694,\n",
       " 27.845963377435993,\n",
       " 28.91807225478241,\n",
       " 29.85506497330488,\n",
       " 30.957017053841184,\n",
       " 31.114603579372396,\n",
       " 32.4666416057542,\n",
       " 33.96706876632866,\n",
       " 34.528477366347595,\n",
       " 35.041045285563264,\n",
       " 36.09656570099409,\n",
       " 37.2660167186042,\n",
       " 38.85496037949393,\n",
       " 39.3316547822285,\n",
       " 40.90885502566675,\n",
       " 41.03831930243878,\n",
       " 42.00437545510741,\n",
       " 43.71631545170042,\n",
       " 44.85912902833089,\n",
       " 45.541432163046885,\n",
       " 46.62006571584322,\n",
       " 47.46185844220068,\n",
       " 48.01143151849383,\n",
       " 49.948545218011425,\n",
       " 50.47657737298691,\n",
       " 51.429139684060075,\n",
       " 52.00556945065523,\n",
       " 53.13303254793002,\n",
       " 54.10849417236979,\n",
       " 55.264112449681036,\n",
       " 56.39473485784105,\n",
       " 57.590979336849244,\n",
       " 58.46424703413945,\n",
       " 59.311923097414976,\n",
       " 60.774795196970146,\n",
       " 61.73147907147518,\n",
       " 62.99811824471569,\n",
       " 63.20243572426551,\n",
       " 64.42662490022875,\n",
       " 65.10790608847388,\n",
       " 66.57828454898952,\n",
       " 67.76814491336289,\n",
       " 68.51108543561786,\n",
       " 69.0022786294951,\n",
       " 70.99531279675718,\n",
       " 71.91205578641141,\n",
       " 72.99745918087523,\n",
       " 73.75622962516495,\n",
       " 74.03330646824688,\n",
       " 75.88112682254885,\n",
       " 76.3542262571636,\n",
       " 77.2302557186284,\n",
       " 78.58510846600147,\n",
       " 79.20808862138645,\n",
       " 80.56267580252995,\n",
       " 81.74149404507371,\n",
       " 82.72429803039307,\n",
       " 83.7655623932253,\n",
       " 84.61277840782535,\n",
       " 85.61428066803833,\n",
       " 86.87905659043868,\n",
       " 87.06609436766458,\n",
       " 88.06526846233761,\n",
       " 89.61650410873439,\n",
       " 90.71646224654185,\n",
       " 91.29524244523587,\n",
       " 92.15001259193971,\n",
       " 93.37950892912934,\n",
       " 94.93300358790839,\n",
       " 95.56173303252947,\n",
       " 96.62122942854957,\n",
       " 97.08443455500299,\n",
       " 98.97292121743617,\n",
       " 99.64578082705404]"
      ]
     },
     "execution_count": 3,
     "metadata": {},
     "output_type": "execute_result"
    }
   ],
   "source": [
    "# contrived dataset\n",
    "data = [x + random() for x in range(1, 100)]\n",
    "data"
   ]
  },
  {
   "cell_type": "code",
   "execution_count": 7,
   "metadata": {},
   "outputs": [
    {
     "data": {
      "text/plain": [
       "[<matplotlib.lines.Line2D at 0x209fbd5bd90>]"
      ]
     },
     "execution_count": 7,
     "metadata": {},
     "output_type": "execute_result"
    },
    {
     "data": {
      "image/png": "[encoded data removed]",
      "text/plain": [
       "<Figure size 432x288 with 1 Axes>"
      ]
     },
     "metadata": {
      "needs_background": "light"
     },
     "output_type": "display_data"
    }
   ],
   "source": [
    "plt.plot(data)"
   ]
  },
  {
   "cell_type": "code",
   "execution_count": 4,
   "metadata": {},
   "outputs": [
    {
     "name": "stderr",
     "output_type": "stream",
     "text": [
      "C:\\Users\\jwill\\anaconda3\\lib\\site-packages\\statsmodels\\tsa\\statespace\\sarimax.py:966: UserWarning: Non-stationary starting autoregressive parameters found. Using zeros as starting parameters.\n",
      "  warn('Non-stationary starting autoregressive parameters'\n",
      "C:\\Users\\jwill\\anaconda3\\lib\\site-packages\\statsmodels\\base\\model.py:566: ConvergenceWarning: Maximum Likelihood optimization failed to converge. Check mle_retvals\n",
      "  warnings.warn(\"Maximum Likelihood optimization failed to \"\n"
     ]
    }
   ],
   "source": [
    "# fit model\n",
    "model = ARIMA(data, order=(1, 1, 1))\n",
    "model_fit = model.fit()"
   ]
  },
  {
   "cell_type": "code",
   "execution_count": 5,
   "metadata": {},
   "outputs": [
    {
     "name": "stdout",
     "output_type": "stream",
     "text": [
      "[100.64298571]\n"
     ]
    }
   ],
   "source": [
    "# make prediction\n",
    "yhat = model_fit.predict(len(data), len(data), typ='levels')\n",
    "print(yhat)"
   ]
  },
  {
   "cell_type": "code",
   "execution_count": null,
   "metadata": {},
   "outputs": [],
   "source": []
  }
 ],
 "metadata": {
  "kernelspec": {
   "display_name": "Python 3",
   "language": "python",
   "name": "python3"
  },
  "language_info": {
   "codemirror_mode": {
    "name": "ipython",
    "version": 3
   },
   "file_extension": ".py",
   "mimetype": "text/x-python",
   "name": "python",
   "nbconvert_exporter": "python",
   "pygments_lexer": "ipython3",
   "version": "3.8.5"
  }
 },
 "nbformat": 4,
 "nbformat_minor": 4
}
