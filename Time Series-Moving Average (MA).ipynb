{
 "cells": [
  {
   "cell_type": "code",
   "execution_count": 1,
   "metadata": {},
   "outputs": [],
   "source": [
    "# The moving average (MA) method models the next step in the sequence as a linear function of the residual errors from a mean process at prior time steps.\n",
    "# A moving average model is different from calculating the moving average of the time series.\n",
    "# The notation for the model involves specifying the order of the model q as a parameter to the MA function, e.g. MA(q). For example, MA(1) is a first-order moving average model.\n",
    "# The method is suitable for univariate time series without trend and seasonal components."
   ]
  },
  {
   "cell_type": "code",
   "execution_count": 6,
   "metadata": {},
   "outputs": [],
   "source": [
    "# MA example\n",
    "from statsmodels.tsa.arima.model import ARIMA\n",
    "from random import random\n",
    "import matplotlib\n",
    "import matplotlib.pyplot as plt"
   ]
  },
  {
   "cell_type": "code",
   "execution_count": 3,
   "metadata": {},
   "outputs": [
    {
     "data": {
      "text/plain": [
       "[1.9570259021351886,\n",
       " 2.7586110813201,\n",
       " 3.538996674475971,\n",
       " 4.878106274626295,\n",
       " 5.726218058341527,\n",
       " 6.177686588887435,\n",
       " 7.307236764025492,\n",
       " 8.00713254507208,\n",
       " 9.08265179707271,\n",
       " 10.733373288507972,\n",
       " 11.079553826521698,\n",
       " 12.9744848628221,\n",
       " 13.082020418650977,\n",
       " 14.900397494616286,\n",
       " 15.679072413059217,\n",
       " 16.831917375778268,\n",
       " 17.813571793216113,\n",
       " 18.866990229821294,\n",
       " 19.579796763807146,\n",
       " 20.349189963572037,\n",
       " 21.651400233168197,\n",
       " 22.17712868594082,\n",
       " 23.02791735339655,\n",
       " 24.216061810637253,\n",
       " 25.632415817778313,\n",
       " 26.211790478015818,\n",
       " 27.696227378345394,\n",
       " 28.283556101326937,\n",
       " 29.537671533775473,\n",
       " 30.028630687072,\n",
       " 31.44930866805068,\n",
       " 32.66642456404066,\n",
       " 33.84736601267225,\n",
       " 34.04331580378215,\n",
       " 35.04958972907471,\n",
       " 36.33169808209621,\n",
       " 37.851458970955356,\n",
       " 38.50553156118028,\n",
       " 39.28848600460395,\n",
       " 40.65913664977816,\n",
       " 41.485179543935935,\n",
       " 42.093059641885425,\n",
       " 43.85904311371397,\n",
       " 44.84464647907635,\n",
       " 45.07519138949802,\n",
       " 46.243447925185,\n",
       " 47.099394158508005,\n",
       " 48.52783165532773,\n",
       " 49.2521673100267,\n",
       " 50.64217712332314,\n",
       " 51.10130356794497,\n",
       " 52.499825979877826,\n",
       " 53.04223020671379,\n",
       " 54.91151838758126,\n",
       " 55.490294452913,\n",
       " 56.63990477269885,\n",
       " 57.499381974852,\n",
       " 58.28318447994263,\n",
       " 59.670818360831575,\n",
       " 60.903067202107756,\n",
       " 61.018116813157256,\n",
       " 62.480850370964376,\n",
       " 63.628822154098835,\n",
       " 64.79034237281998,\n",
       " 65.96227328258524,\n",
       " 66.14636432140824,\n",
       " 67.00386439183747,\n",
       " 68.21038340810034,\n",
       " 69.2876989158896,\n",
       " 70.68302909751591,\n",
       " 71.81088548115841,\n",
       " 72.70396422964852,\n",
       " 73.51447760548878,\n",
       " 74.12699192180594,\n",
       " 75.82418609049104,\n",
       " 76.11211003432592,\n",
       " 77.98268893977966,\n",
       " 78.13617830501151,\n",
       " 79.47719828719856,\n",
       " 80.50518300789724,\n",
       " 81.59249534374828,\n",
       " 82.99762124848802,\n",
       " 83.54365775683236,\n",
       " 84.31660123620755,\n",
       " 85.45602726524069,\n",
       " 86.36877415851193,\n",
       " 87.86389304834587,\n",
       " 88.46203438447593,\n",
       " 89.14499815053033,\n",
       " 90.43557132209746,\n",
       " 91.09108927899594,\n",
       " 92.622219966439,\n",
       " 93.33449202718394,\n",
       " 94.55646247054021,\n",
       " 95.821769383388,\n",
       " 96.90573661089512,\n",
       " 97.12931902095102,\n",
       " 98.73911118333953,\n",
       " 99.08171267894947]"
      ]
     },
     "execution_count": 3,
     "metadata": {},
     "output_type": "execute_result"
    }
   ],
   "source": [
    "# contrived dataset\n",
    "data = [x + random() for x in range(1, 100)]\n",
    "data"
   ]
  },
  {
   "cell_type": "code",
   "execution_count": 7,
   "metadata": {},
   "outputs": [
    {
     "data": {
      "text/plain": [
       "[<matplotlib.lines.Line2D at 0x288026a4cd0>]"
      ]
     },
     "execution_count": 7,
     "metadata": {},
     "output_type": "execute_result"
    },
    {
     "data": {
      "image/png": "[encoded data removed]",
      "text/plain": [
       "<Figure size 432x288 with 1 Axes>"
      ]
     },
     "metadata": {
      "needs_background": "light"
     },
     "output_type": "display_data"
    }
   ],
   "source": [
    "plt.plot(data)"
   ]
  },
  {
   "cell_type": "code",
   "execution_count": 4,
   "metadata": {},
   "outputs": [
    {
     "name": "stderr",
     "output_type": "stream",
     "text": [
      "C:\\Users\\jwill\\anaconda3\\lib\\site-packages\\statsmodels\\tsa\\statespace\\sarimax.py:978: UserWarning: Non-invertible starting MA parameters found. Using zeros as starting parameters.\n",
      "  warn('Non-invertible starting MA parameters found.'\n"
     ]
    }
   ],
   "source": [
    "# fit model\n",
    "model = ARIMA(data, order=(0, 0, 1))\n",
    "model_fit = model.fit()"
   ]
  },
  {
   "cell_type": "code",
   "execution_count": 5,
   "metadata": {},
   "outputs": [
    {
     "name": "stdout",
     "output_type": "stream",
     "text": [
      "[73.71855185]\n"
     ]
    }
   ],
   "source": [
    "# make prediction\n",
    "yhat = model_fit.predict(len(data), len(data))\n",
    "print(yhat)"
   ]
  },
  {
   "cell_type": "code",
   "execution_count": null,
   "metadata": {},
   "outputs": [],
   "source": []
  }
 ],
 "metadata": {
  "kernelspec": {
   "display_name": "Python 3",
   "language": "python",
   "name": "python3"
  },
  "language_info": {
   "codemirror_mode": {
    "name": "ipython",
    "version": 3
   },
   "file_extension": ".py",
   "mimetype": "text/x-python",
   "name": "python",
   "nbconvert_exporter": "python",
   "pygments_lexer": "ipython3",
   "version": "3.8.5"
  }
 },
 "nbformat": 4,
 "nbformat_minor": 4
}
