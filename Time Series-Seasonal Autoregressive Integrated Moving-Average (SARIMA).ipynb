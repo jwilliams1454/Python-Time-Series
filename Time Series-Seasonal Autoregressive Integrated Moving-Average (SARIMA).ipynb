{
 "cells": [
  {
   "cell_type": "code",
   "execution_count": 1,
   "metadata": {},
   "outputs": [],
   "source": [
    "# The Seasonal Autoregressive Integrated Moving Average (SARIMA) method models the next step in the sequence as a linear function of the differenced observations, errors, differenced seasonal observations, and seasonal errors at prior time steps.\n",
    "# It combines the ARIMA model with the ability to perform the same autoregression, differencing, and moving average modeling at the seasonal level.\n",
    "# The method is suitable for univariate time series with trend and/or seasonal components."
   ]
  },
  {
   "cell_type": "code",
   "execution_count": 6,
   "metadata": {},
   "outputs": [],
   "source": [
    "# SARIMA example\n",
    "from statsmodels.tsa.statespace.sarimax import SARIMAX\n",
    "from random import random\n",
    "import matplotlib\n",
    "import matplotlib.pyplot as plt"
   ]
  },
  {
   "cell_type": "code",
   "execution_count": 3,
   "metadata": {},
   "outputs": [
    {
     "data": {
      "text/plain": [
       "[1.2455010979070014,\n",
       " 2.850984345760569,\n",
       " 3.661904235361189,\n",
       " 4.016402316744896,\n",
       " 5.088728655033466,\n",
       " 6.459291906995477,\n",
       " 7.374891105952599,\n",
       " 8.922840650628249,\n",
       " 9.697833532060297,\n",
       " 10.372734130406434,\n",
       " 11.233100918489248,\n",
       " 12.089590071189264,\n",
       " 13.554157998001765,\n",
       " 14.759923042579041,\n",
       " 15.845651967199908,\n",
       " 16.314414964525263,\n",
       " 17.20680043341272,\n",
       " 18.694549501607327,\n",
       " 19.997176904586482,\n",
       " 20.011809078749188,\n",
       " 21.19315844252195,\n",
       " 22.400830190187538,\n",
       " 23.60961078691632,\n",
       " 24.844579007670074,\n",
       " 25.75352565916667,\n",
       " 26.24442630555251,\n",
       " 27.93346486765431,\n",
       " 28.25959941544446,\n",
       " 29.467734703888784,\n",
       " 30.95205690961328,\n",
       " 31.611233026116835,\n",
       " 32.45357892097161,\n",
       " 33.308783910694096,\n",
       " 34.069459007424925,\n",
       " 35.65529582116316,\n",
       " 36.24153006027274,\n",
       " 37.42384516143278,\n",
       " 38.87250052005268,\n",
       " 39.718410280088406,\n",
       " 40.16818118809678,\n",
       " 41.99681191020524,\n",
       " 42.04823672219854,\n",
       " 43.373771716051564,\n",
       " 44.23028593180067,\n",
       " 45.82144143055776,\n",
       " 46.238054561694376,\n",
       " 47.97327145562565,\n",
       " 48.008082170594236,\n",
       " 49.94617704730379,\n",
       " 50.72332083098918,\n",
       " 51.759358063411575,\n",
       " 52.73962928914975,\n",
       " 53.260470514722044,\n",
       " 54.04695174903248,\n",
       " 55.43100673537698,\n",
       " 56.073589131074996,\n",
       " 57.894760020918724,\n",
       " 58.472512215825645,\n",
       " 59.013832866672395,\n",
       " 60.32363584934103,\n",
       " 61.27415671112148,\n",
       " 62.014669152031,\n",
       " 63.8416027287456,\n",
       " 64.1734742823232,\n",
       " 65.51516066346508,\n",
       " 66.38801588697679,\n",
       " 67.66267681344902,\n",
       " 68.73321917670424,\n",
       " 69.51463843312773,\n",
       " 70.6048642698217,\n",
       " 71.00358445275799,\n",
       " 72.85302282560585,\n",
       " 73.08122044685622,\n",
       " 74.38592954852773,\n",
       " 75.97135224645511,\n",
       " 76.50825158725138,\n",
       " 77.18696952053658,\n",
       " 78.97056229092887,\n",
       " 79.91769375339761,\n",
       " 80.6843592384481,\n",
       " 81.27243183101449,\n",
       " 82.99386069069939,\n",
       " 83.22712344963243,\n",
       " 84.25623469501416,\n",
       " 85.01543532279734,\n",
       " 86.27981553297859,\n",
       " 87.02506745782851,\n",
       " 88.90262699588986,\n",
       " 89.02973776871445,\n",
       " 90.57766266501521,\n",
       " 91.26663645197954,\n",
       " 92.99538459207258,\n",
       " 93.5336760706003,\n",
       " 94.11430337418685,\n",
       " 95.42354245029831,\n",
       " 96.41353579035429,\n",
       " 97.82913358307616,\n",
       " 98.92532142443291,\n",
       " 99.9373439692922]"
      ]
     },
     "execution_count": 3,
     "metadata": {},
     "output_type": "execute_result"
    }
   ],
   "source": [
    "# contrived dataset\n",
    "data = [x + random() for x in range(1, 100)]\n",
    "data"
   ]
  },
  {
   "cell_type": "code",
   "execution_count": 7,
   "metadata": {},
   "outputs": [
    {
     "data": {
      "text/plain": [
       "[<matplotlib.lines.Line2D at 0x16844871340>]"
      ]
     },
     "execution_count": 7,
     "metadata": {},
     "output_type": "execute_result"
    },
    {
     "data": {
      "image/png": "[encoded data removed]",
      "text/plain": [
       "<Figure size 432x288 with 1 Axes>"
      ]
     },
     "metadata": {
      "needs_background": "light"
     },
     "output_type": "display_data"
    }
   ],
   "source": [
    "plt.plot(data)"
   ]
  },
  {
   "cell_type": "code",
   "execution_count": 4,
   "metadata": {},
   "outputs": [
    {
     "name": "stderr",
     "output_type": "stream",
     "text": [
      "C:\\Users\\jwill\\anaconda3\\lib\\site-packages\\statsmodels\\tsa\\statespace\\sarimax.py:966: UserWarning: Non-stationary starting autoregressive parameters found. Using zeros as starting parameters.\n",
      "  warn('Non-stationary starting autoregressive parameters'\n",
      "C:\\Users\\jwill\\anaconda3\\lib\\site-packages\\statsmodels\\tsa\\statespace\\sarimax.py:978: UserWarning: Non-invertible starting MA parameters found. Using zeros as starting parameters.\n",
      "  warn('Non-invertible starting MA parameters found.'\n"
     ]
    }
   ],
   "source": [
    "# fit model\n",
    "model = SARIMAX(data, order=(1, 1, 1), seasonal_order=(0, 0, 0, 0))\n",
    "model_fit = model.fit(disp=False)"
   ]
  },
  {
   "cell_type": "code",
   "execution_count": 5,
   "metadata": {},
   "outputs": [
    {
     "name": "stdout",
     "output_type": "stream",
     "text": [
      "[100.94215121]\n"
     ]
    }
   ],
   "source": [
    "# make prediction\n",
    "yhat = model_fit.predict(len(data), len(data))\n",
    "print(yhat)"
   ]
  },
  {
   "cell_type": "code",
   "execution_count": null,
   "metadata": {},
   "outputs": [],
   "source": []
  }
 ],
 "metadata": {
  "kernelspec": {
   "display_name": "Python 3",
   "language": "python",
   "name": "python3"
  },
  "language_info": {
   "codemirror_mode": {
    "name": "ipython",
    "version": 3
   },
   "file_extension": ".py",
   "mimetype": "text/x-python",
   "name": "python",
   "nbconvert_exporter": "python",
   "pygments_lexer": "ipython3",
   "version": "3.8.5"
  }
 },
 "nbformat": 4,
 "nbformat_minor": 4
}
