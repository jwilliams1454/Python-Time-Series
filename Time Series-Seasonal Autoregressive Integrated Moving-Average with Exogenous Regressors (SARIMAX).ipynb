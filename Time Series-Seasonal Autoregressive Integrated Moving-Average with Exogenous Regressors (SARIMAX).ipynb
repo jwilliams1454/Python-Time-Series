{
 "cells": [
  {
   "cell_type": "code",
   "execution_count": 2,
   "metadata": {},
   "outputs": [],
   "source": [
    "# The Seasonal Autoregressive Integrated Moving-Average with Exogenous Regressors (SARIMAX) is an extension of the SARIMA model that also includes the modeling of exogenous variables.\n",
    "# The SARIMAX method can also be used to model the subsumed models with exogenous variables, such as ARX, MAX, ARMAX, and ARIMAX.\n",
    "# The method is suitable for univariate time series with trend and/or seasonal components and exogenous variables."
   ]
  },
  {
   "cell_type": "code",
   "execution_count": 8,
   "metadata": {},
   "outputs": [],
   "source": [
    "# SARIMAX example\n",
    "from statsmodels.tsa.statespace.sarimax import SARIMAX\n",
    "from random import random\n",
    "import matplotlib\n",
    "import matplotlib.pyplot as plt"
   ]
  },
  {
   "cell_type": "code",
   "execution_count": 4,
   "metadata": {},
   "outputs": [
    {
     "data": {
      "text/plain": [
       "[1.0221961879628059,\n",
       " 2.6167041966881133,\n",
       " 3.5978203034512073,\n",
       " 4.623525519114458,\n",
       " 5.980348072880671,\n",
       " 6.660559534536263,\n",
       " 7.279969379776598,\n",
       " 8.410336919577109,\n",
       " 9.111113144265776,\n",
       " 10.571694772836246,\n",
       " 11.56454711038473,\n",
       " 12.349310164577744,\n",
       " 13.869996843954377,\n",
       " 14.738721635154253,\n",
       " 15.395409169374197,\n",
       " 16.15700604808888,\n",
       " 17.36852204634344,\n",
       " 18.10166557524863,\n",
       " 19.716844763333583,\n",
       " 20.962517954979884,\n",
       " 21.90689315032731,\n",
       " 22.672755395577003,\n",
       " 23.12738597778335,\n",
       " 24.623599099485165,\n",
       " 25.669935724122652,\n",
       " 26.424222707859364,\n",
       " 27.684320628046276,\n",
       " 28.558841255768343,\n",
       " 29.47250585628322,\n",
       " 30.024557635265275,\n",
       " 31.081951637280984,\n",
       " 32.860184036222066,\n",
       " 33.3399225991007,\n",
       " 34.0234335203908,\n",
       " 35.64069266813823,\n",
       " 36.718941946191755,\n",
       " 37.79215615249864,\n",
       " 38.07665928993929,\n",
       " 39.5095038164875,\n",
       " 40.66755300256644,\n",
       " 41.102085628318356,\n",
       " 42.615538844076006,\n",
       " 43.93368256496442,\n",
       " 44.784162332515486,\n",
       " 45.96202582540835,\n",
       " 46.08587420788447,\n",
       " 47.22307224568529,\n",
       " 48.44449135141431,\n",
       " 49.41588605257158,\n",
       " 50.93793042747896,\n",
       " 51.607772451887776,\n",
       " 52.9077233038198,\n",
       " 53.020571334674734,\n",
       " 54.36289310937092,\n",
       " 55.78115707574836,\n",
       " 56.899695562488255,\n",
       " 57.48025424206305,\n",
       " 58.11405892945963,\n",
       " 59.29883104385963,\n",
       " 60.75290801304674,\n",
       " 61.479543267174094,\n",
       " 62.86670317205807,\n",
       " 63.49134285130243,\n",
       " 64.81589152172626,\n",
       " 65.39366951479748,\n",
       " 66.88058911917709,\n",
       " 67.26041501093613,\n",
       " 68.97076509170026,\n",
       " 69.41987239112414,\n",
       " 70.08674950365402,\n",
       " 71.26425780742463,\n",
       " 72.27297840476989,\n",
       " 73.7641528592973,\n",
       " 74.04609299024325,\n",
       " 75.65687950953033,\n",
       " 76.96716532563681,\n",
       " 77.0796743534422,\n",
       " 78.0272271461881,\n",
       " 79.46181103584226,\n",
       " 80.00866942494139,\n",
       " 81.6809397884811,\n",
       " 82.99292605934197,\n",
       " 83.97077016644963,\n",
       " 84.3464429596779,\n",
       " 85.14565227916141,\n",
       " 86.77056671368076,\n",
       " 87.95219640686737,\n",
       " 88.07825352212586,\n",
       " 89.46585817288968,\n",
       " 90.30377426191556,\n",
       " 91.33043627950082,\n",
       " 92.26544699644349,\n",
       " 93.73367751828009,\n",
       " 94.03377901038994,\n",
       " 95.94772477909304,\n",
       " 96.00276755617045,\n",
       " 97.20988859479671,\n",
       " 98.8002241637799,\n",
       " 99.65305369127893]"
      ]
     },
     "execution_count": 4,
     "metadata": {},
     "output_type": "execute_result"
    }
   ],
   "source": [
    "# contrived dataset\n",
    "data1 = [x + random() for x in range(1, 100)]\n",
    "data2 = [x + random() for x in range(101, 200)]\n",
    "data1"
   ]
  },
  {
   "cell_type": "code",
   "execution_count": 10,
   "metadata": {},
   "outputs": [
    {
     "data": {
      "text/plain": [
       "[<matplotlib.lines.Line2D at 0x2679e9293a0>]"
      ]
     },
     "execution_count": 10,
     "metadata": {},
     "output_type": "execute_result"
    },
    {
     "data": {
      "image/png": "[encoded data removed]",
      "text/plain": [
       "<Figure size 432x288 with 1 Axes>"
      ]
     },
     "metadata": {
      "needs_background": "light"
     },
     "output_type": "display_data"
    }
   ],
   "source": [
    "plt.plot(data1)"
   ]
  },
  {
   "cell_type": "code",
   "execution_count": 5,
   "metadata": {},
   "outputs": [
    {
     "data": {
      "text/plain": [
       "[101.70081017870687,\n",
       " 102.95262272087311,\n",
       " 103.79020581002416,\n",
       " 104.70450573880551,\n",
       " 105.01298348292988,\n",
       " 106.0677873250494,\n",
       " 107.22715635754197,\n",
       " 108.96213982637916,\n",
       " 109.58730819703234,\n",
       " 110.21773859294738,\n",
       " 111.75753198706444,\n",
       " 112.79277438244499,\n",
       " 113.37706786917182,\n",
       " 114.58707639955199,\n",
       " 115.60113936711832,\n",
       " 116.25598838918508,\n",
       " 117.20316201309124,\n",
       " 118.57790523617595,\n",
       " 119.72027927035734,\n",
       " 120.02547839420993,\n",
       " 121.08497490568874,\n",
       " 122.02142605970468,\n",
       " 123.92903433186946,\n",
       " 124.58482260118544,\n",
       " 125.76668712581738,\n",
       " 126.77568979000844,\n",
       " 127.00627593638359,\n",
       " 128.73048508661068,\n",
       " 129.0072275141082,\n",
       " 130.6134258574917,\n",
       " 131.27030959740168,\n",
       " 132.50239998849162,\n",
       " 133.97705304913606,\n",
       " 134.34234469427088,\n",
       " 135.34677404443735,\n",
       " 136.23824024505075,\n",
       " 137.44301592458268,\n",
       " 138.65474275408437,\n",
       " 139.51272975533266,\n",
       " 140.75881838176022,\n",
       " 141.62016063208054,\n",
       " 142.3349206088032,\n",
       " 143.50708614948618,\n",
       " 144.69354936681225,\n",
       " 145.48350894859223,\n",
       " 146.61917368140874,\n",
       " 147.6792403660985,\n",
       " 148.40704486303753,\n",
       " 149.7359644945748,\n",
       " 150.20593916088464,\n",
       " 151.4565482066909,\n",
       " 152.9071892637837,\n",
       " 153.29341340832687,\n",
       " 154.64268151263155,\n",
       " 155.39012620377622,\n",
       " 156.61266959770845,\n",
       " 157.7390897021089,\n",
       " 158.510646062215,\n",
       " 159.30101070990384,\n",
       " 160.7283962874314,\n",
       " 161.24020323403334,\n",
       " 162.9027998331682,\n",
       " 163.79058715166758,\n",
       " 164.45836311051653,\n",
       " 165.03868322639383,\n",
       " 166.82183822083445,\n",
       " 167.21170473948885,\n",
       " 168.8980009594811,\n",
       " 169.66125704960075,\n",
       " 170.8342868425417,\n",
       " 171.79802038447468,\n",
       " 172.52569378198098,\n",
       " 173.4476636009802,\n",
       " 174.2586703406006,\n",
       " 175.6684514679007,\n",
       " 176.90763074076926,\n",
       " 177.28514916825563,\n",
       " 178.19759322107674,\n",
       " 179.80644944890147,\n",
       " 180.06716759725603,\n",
       " 181.0004728851296,\n",
       " 182.62690191578858,\n",
       " 183.59910638650658,\n",
       " 184.608689410395,\n",
       " 185.94538121842027,\n",
       " 186.92516109369413,\n",
       " 187.38461193784164,\n",
       " 188.75531895514473,\n",
       " 189.40965573990712,\n",
       " 190.1344481943397,\n",
       " 191.2402087330722,\n",
       " 192.84492400548643,\n",
       " 193.01956594383338,\n",
       " 194.82562319654642,\n",
       " 195.63173319500817,\n",
       " 196.1278193750411,\n",
       " 197.41870550657276,\n",
       " 198.03741072274622,\n",
       " 199.85258047895587]"
      ]
     },
     "execution_count": 5,
     "metadata": {},
     "output_type": "execute_result"
    }
   ],
   "source": [
    "data2"
   ]
  },
  {
   "cell_type": "code",
   "execution_count": 11,
   "metadata": {},
   "outputs": [
    {
     "data": {
      "text/plain": [
       "[<matplotlib.lines.Line2D at 0x2679ea01eb0>]"
      ]
     },
     "execution_count": 11,
     "metadata": {},
     "output_type": "execute_result"
    },
    {
     "data": {
      "image/png": "[encoded data removed]",
      "text/plain": [
       "<Figure size 432x288 with 1 Axes>"
      ]
     },
     "metadata": {
      "needs_background": "light"
     },
     "output_type": "display_data"
    }
   ],
   "source": [
    "plt.plot(data2)"
   ]
  },
  {
   "cell_type": "code",
   "execution_count": 6,
   "metadata": {},
   "outputs": [],
   "source": [
    "# fit model\n",
    "model = SARIMAX(data1, exog=data2, order=(1, 1, 1), seasonal_order=(0, 0, 0, 0))\n",
    "model_fit = model.fit(disp=False)"
   ]
  },
  {
   "cell_type": "code",
   "execution_count": 7,
   "metadata": {},
   "outputs": [
    {
     "name": "stdout",
     "output_type": "stream",
     "text": [
      "[100.30642202]\n"
     ]
    }
   ],
   "source": [
    "# make prediction\n",
    "exog2 = [200 + random()]\n",
    "yhat = model_fit.predict(len(data1), len(data1), exog=[exog2])\n",
    "print(yhat)"
   ]
  },
  {
   "cell_type": "code",
   "execution_count": null,
   "metadata": {},
   "outputs": [],
   "source": []
  }
 ],
 "metadata": {
  "kernelspec": {
   "display_name": "Python 3",
   "language": "python",
   "name": "python3"
  },
  "language_info": {
   "codemirror_mode": {
    "name": "ipython",
    "version": 3
   },
   "file_extension": ".py",
   "mimetype": "text/x-python",
   "name": "python",
   "nbconvert_exporter": "python",
   "pygments_lexer": "ipython3",
   "version": "3.8.5"
  }
 },
 "nbformat": 4,
 "nbformat_minor": 4
}
