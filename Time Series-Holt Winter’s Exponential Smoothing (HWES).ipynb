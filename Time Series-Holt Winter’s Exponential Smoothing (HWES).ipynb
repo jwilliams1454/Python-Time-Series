{
 "cells": [
  {
   "cell_type": "code",
   "execution_count": 1,
   "metadata": {},
   "outputs": [],
   "source": [
    "# The Holt Winter’s Exponential Smoothing (HWES) also called the Triple Exponential Smoothing method models the next time step as an exponentially weighted linear function of observations at prior time steps, taking trends and seasonality into account.\n",
    "# The method is suitable for univariate time series with trend and/or seasonal components."
   ]
  },
  {
   "cell_type": "code",
   "execution_count": 6,
   "metadata": {},
   "outputs": [],
   "source": [
    "# HWES example\n",
    "from statsmodels.tsa.holtwinters import ExponentialSmoothing\n",
    "from random import random\n",
    "import matplotlib\n",
    "import matplotlib.pyplot as plt"
   ]
  },
  {
   "cell_type": "code",
   "execution_count": 8,
   "metadata": {},
   "outputs": [
    {
     "data": {
      "text/plain": [
       "[1.7292975976460536,\n",
       " 2.7322481247782178,\n",
       " 3.447643124680845,\n",
       " 4.114056611283289,\n",
       " 5.129792580870184,\n",
       " 6.227901977857271,\n",
       " 7.325653161552626,\n",
       " 8.514808934646162,\n",
       " 9.273363919387657,\n",
       " 10.567400116797653,\n",
       " 11.005793868146817,\n",
       " 12.544532262003678,\n",
       " 13.329606656544025,\n",
       " 14.08111816726261,\n",
       " 15.126330305310203,\n",
       " 16.99143167073934,\n",
       " 17.930279580619946,\n",
       " 18.897437087171337,\n",
       " 19.21985492807422,\n",
       " 20.521103176741022,\n",
       " 21.347430829224063,\n",
       " 22.537681203204556,\n",
       " 23.19315794272649,\n",
       " 24.088005091842344,\n",
       " 25.426925069829327,\n",
       " 26.062876991683723,\n",
       " 27.00954694822672,\n",
       " 28.782570916955788,\n",
       " 29.48756260554626,\n",
       " 30.72877664309601,\n",
       " 31.36231062205107,\n",
       " 32.9520749512983,\n",
       " 33.093827959841846,\n",
       " 34.25546167161357,\n",
       " 35.43845901064044,\n",
       " 36.703238628558566,\n",
       " 37.485483191185864,\n",
       " 38.966686516331954,\n",
       " 39.53223856425281,\n",
       " 40.2460545998844,\n",
       " 41.477955404722074,\n",
       " 42.01877957832369,\n",
       " 43.56651674791718,\n",
       " 44.139166420746086,\n",
       " 45.95424644998787,\n",
       " 46.30329045494153,\n",
       " 47.026981210060704,\n",
       " 48.24950991950069,\n",
       " 49.978944076634036,\n",
       " 50.244122486750086,\n",
       " 51.28990049984887,\n",
       " 52.410600730008206,\n",
       " 53.62667170892372,\n",
       " 54.70774185232011,\n",
       " 55.66242201201746,\n",
       " 56.26546988202436,\n",
       " 57.661721437494265,\n",
       " 58.30848477260778,\n",
       " 59.66901066367851,\n",
       " 60.14774767822175,\n",
       " 61.816171059261485,\n",
       " 62.74987836757025,\n",
       " 63.57374232053054,\n",
       " 64.03136343748955,\n",
       " 65.27941767208466,\n",
       " 66.39835082180844,\n",
       " 67.09670556470029,\n",
       " 68.29404213447168,\n",
       " 69.2396036392444,\n",
       " 70.0391368623442,\n",
       " 71.47671047728558,\n",
       " 72.77655353390224,\n",
       " 73.47882807831589,\n",
       " 74.06108495926637,\n",
       " 75.2762512963804,\n",
       " 76.9630564274573,\n",
       " 77.79357551831502,\n",
       " 78.36947396230276,\n",
       " 79.46104052703492,\n",
       " 80.07973543530838,\n",
       " 81.81906204388301,\n",
       " 82.94664801991395,\n",
       " 83.50216047878403,\n",
       " 84.88573974084166,\n",
       " 85.14651016630513,\n",
       " 86.50836345787866,\n",
       " 87.48246105355257,\n",
       " 88.17736422881883,\n",
       " 89.94166477436734,\n",
       " 90.67830962275652,\n",
       " 91.92330410850694,\n",
       " 92.75142802893679,\n",
       " 93.51168681990725,\n",
       " 94.8250974071039,\n",
       " 95.36853484155351,\n",
       " 96.02203188047095,\n",
       " 97.6736792604935,\n",
       " 98.31282785953584,\n",
       " 99.95715052723168]"
      ]
     },
     "execution_count": 8,
     "metadata": {},
     "output_type": "execute_result"
    }
   ],
   "source": [
    "# contrived dataset\n",
    "data = [x + random() for x in range(1, 100)]\n",
    "data"
   ]
  },
  {
   "cell_type": "code",
   "execution_count": 9,
   "metadata": {},
   "outputs": [
    {
     "data": {
      "text/plain": [
       "[<matplotlib.lines.Line2D at 0x25236f398b0>]"
      ]
     },
     "execution_count": 9,
     "metadata": {},
     "output_type": "execute_result"
    },
    {
     "data": {
      "image/png": "[encoded data removed]",
      "text/plain": [
       "<Figure size 432x288 with 1 Axes>"
      ]
     },
     "metadata": {
      "needs_background": "light"
     },
     "output_type": "display_data"
    }
   ],
   "source": [
    "plt.plot(data)"
   ]
  },
  {
   "cell_type": "code",
   "execution_count": 10,
   "metadata": {},
   "outputs": [
    {
     "name": "stderr",
     "output_type": "stream",
     "text": [
      "C:\\Users\\jwill\\anaconda3\\lib\\site-packages\\statsmodels\\tsa\\holtwinters\\model.py:427: FutureWarning: After 0.13 initialization must be handled at model creation\n",
      "  warnings.warn(\n"
     ]
    }
   ],
   "source": [
    "# fit model\n",
    "model = ExponentialSmoothing(data)\n",
    "model_fit = model.fit()"
   ]
  },
  {
   "cell_type": "code",
   "execution_count": 11,
   "metadata": {},
   "outputs": [
    {
     "name": "stdout",
     "output_type": "stream",
     "text": [
      "[99.9571505]\n"
     ]
    }
   ],
   "source": [
    "# make prediction\n",
    "yhat = model_fit.predict(len(data), len(data))\n",
    "print(yhat)"
   ]
  },
  {
   "cell_type": "code",
   "execution_count": null,
   "metadata": {},
   "outputs": [],
   "source": []
  }
 ],
 "metadata": {
  "kernelspec": {
   "display_name": "Python 3",
   "language": "python",
   "name": "python3"
  },
  "language_info": {
   "codemirror_mode": {
    "name": "ipython",
    "version": 3
   },
   "file_extension": ".py",
   "mimetype": "text/x-python",
   "name": "python",
   "nbconvert_exporter": "python",
   "pygments_lexer": "ipython3",
   "version": "3.8.5"
  }
 },
 "nbformat": 4,
 "nbformat_minor": 4
}
