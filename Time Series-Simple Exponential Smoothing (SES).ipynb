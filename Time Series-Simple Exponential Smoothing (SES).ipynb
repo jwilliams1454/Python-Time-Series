{
 "cells": [
  {
   "cell_type": "code",
   "execution_count": 1,
   "metadata": {},
   "outputs": [],
   "source": [
    "# The Simple Exponential Smoothing (SES) method models the next time step as an exponentially weighted linear function of observations at prior time steps.\n",
    "# The method is suitable for univariate time series without trend and seasonal components."
   ]
  },
  {
   "cell_type": "code",
   "execution_count": 6,
   "metadata": {},
   "outputs": [],
   "source": [
    "# SES example\n",
    "from statsmodels.tsa.holtwinters import SimpleExpSmoothing\n",
    "from random import random\n",
    "import matplotlib\n",
    "import matplotlib.pyplot as plt"
   ]
  },
  {
   "cell_type": "code",
   "execution_count": 3,
   "metadata": {},
   "outputs": [
    {
     "data": {
      "text/plain": [
       "[1.0034171503301097,\n",
       " 2.8674750366177166,\n",
       " 3.4810086144902623,\n",
       " 4.003814747084317,\n",
       " 5.580239412727301,\n",
       " 6.547130799274445,\n",
       " 7.732699958177706,\n",
       " 8.936736686266737,\n",
       " 9.392712017420337,\n",
       " 10.954051872430043,\n",
       " 11.734669194660054,\n",
       " 12.44504621407535,\n",
       " 13.468317162629342,\n",
       " 14.13769163809798,\n",
       " 15.24186542546701,\n",
       " 16.135143251193192,\n",
       " 17.928467963201953,\n",
       " 18.99947715865116,\n",
       " 19.14410429573748,\n",
       " 20.38265456045288,\n",
       " 21.7977593015663,\n",
       " 22.30121460137533,\n",
       " 23.646923120401087,\n",
       " 24.313128729844482,\n",
       " 25.837641100366085,\n",
       " 26.166434541318296,\n",
       " 27.670078758302132,\n",
       " 28.16878881862383,\n",
       " 29.753810097687513,\n",
       " 30.99458294717495,\n",
       " 31.54012939873754,\n",
       " 32.516677663810626,\n",
       " 33.43871789632376,\n",
       " 34.80351256038552,\n",
       " 35.43799347815311,\n",
       " 36.25930202119296,\n",
       " 37.57401369871923,\n",
       " 38.31664136590951,\n",
       " 39.3240606327821,\n",
       " 40.97089880143855,\n",
       " 41.77646152278922,\n",
       " 42.37460614928164,\n",
       " 43.924957967651274,\n",
       " 44.02812390832598,\n",
       " 45.79017940158268,\n",
       " 46.139688021838666,\n",
       " 47.05589270287538,\n",
       " 48.32357286599692,\n",
       " 49.44754565346548,\n",
       " 50.94397725613517,\n",
       " 51.48279725827109,\n",
       " 52.6911302140556,\n",
       " 53.92856071513635,\n",
       " 54.967882725936136,\n",
       " 55.185869891821206,\n",
       " 56.26328710976578,\n",
       " 57.960314608721376,\n",
       " 58.63638236119907,\n",
       " 59.79360679485607,\n",
       " 60.7717458873103,\n",
       " 61.30181008403421,\n",
       " 62.52856854893884,\n",
       " 63.14506693167374,\n",
       " 64.39003477525779,\n",
       " 65.70106762621857,\n",
       " 66.11369037334471,\n",
       " 67.54550979585827,\n",
       " 68.28986202436826,\n",
       " 69.20125441785736,\n",
       " 70.81461716894466,\n",
       " 71.93374234566033,\n",
       " 72.85637339425945,\n",
       " 73.85880529249408,\n",
       " 74.23336843752449,\n",
       " 75.9214228689289,\n",
       " 76.81251678873798,\n",
       " 77.19989153749069,\n",
       " 78.78212982712162,\n",
       " 79.81815823691743,\n",
       " 80.76460752878408,\n",
       " 81.34926647717054,\n",
       " 82.41599114760949,\n",
       " 83.85932315871642,\n",
       " 84.01672775556567,\n",
       " 85.70272679596735,\n",
       " 86.97779457922687,\n",
       " 87.84338933019494,\n",
       " 88.51239550916422,\n",
       " 89.8323335656338,\n",
       " 90.33921341948628,\n",
       " 91.05881644791849,\n",
       " 92.31951866205877,\n",
       " 93.70012286784961,\n",
       " 94.78590436405513,\n",
       " 95.41149525441242,\n",
       " 96.47140519145717,\n",
       " 97.04018652897952,\n",
       " 98.68689551783486,\n",
       " 99.55841547778569]"
      ]
     },
     "execution_count": 3,
     "metadata": {},
     "output_type": "execute_result"
    }
   ],
   "source": [
    "# contrived dataset\n",
    "data = [x + random() for x in range(1, 100)]\n",
    "data"
   ]
  },
  {
   "cell_type": "code",
   "execution_count": 7,
   "metadata": {},
   "outputs": [
    {
     "data": {
      "text/plain": [
       "[<matplotlib.lines.Line2D at 0x28ca19d6d00>]"
      ]
     },
     "execution_count": 7,
     "metadata": {},
     "output_type": "execute_result"
    },
    {
     "data": {
      "image/png": "[encoded data removed]",
      "text/plain": [
       "<Figure size 432x288 with 1 Axes>"
      ]
     },
     "metadata": {
      "needs_background": "light"
     },
     "output_type": "display_data"
    }
   ],
   "source": [
    "plt.plot(data)"
   ]
  },
  {
   "cell_type": "code",
   "execution_count": 4,
   "metadata": {},
   "outputs": [
    {
     "name": "stderr",
     "output_type": "stream",
     "text": [
      "C:\\Users\\jwill\\anaconda3\\lib\\site-packages\\statsmodels\\tsa\\holtwinters\\model.py:427: FutureWarning: After 0.13 initialization must be handled at model creation\n",
      "  warnings.warn(\n"
     ]
    }
   ],
   "source": [
    "# fit model\n",
    "model = SimpleExpSmoothing(data)\n",
    "model_fit = model.fit()"
   ]
  },
  {
   "cell_type": "code",
   "execution_count": 5,
   "metadata": {},
   "outputs": [
    {
     "name": "stdout",
     "output_type": "stream",
     "text": [
      "[99.55841546]\n"
     ]
    }
   ],
   "source": [
    "# make prediction\n",
    "yhat = model_fit.predict(len(data), len(data))\n",
    "print(yhat)"
   ]
  },
  {
   "cell_type": "code",
   "execution_count": null,
   "metadata": {},
   "outputs": [],
   "source": []
  }
 ],
 "metadata": {
  "kernelspec": {
   "display_name": "Python 3",
   "language": "python",
   "name": "python3"
  },
  "language_info": {
   "codemirror_mode": {
    "name": "ipython",
    "version": 3
   },
   "file_extension": ".py",
   "mimetype": "text/x-python",
   "name": "python",
   "nbconvert_exporter": "python",
   "pygments_lexer": "ipython3",
   "version": "3.8.5"
  }
 },
 "nbformat": 4,
 "nbformat_minor": 4
}
